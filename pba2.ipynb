{
 "metadata": {
  "language_info": {
   "codemirror_mode": {
    "name": "ipython",
    "version": 3
   },
   "file_extension": ".py",
   "mimetype": "text/x-python",
   "name": "python",
   "nbconvert_exporter": "python",
   "pygments_lexer": "ipython3",
   "version": "3.8.6"
  },
  "orig_nbformat": 2,
  "kernelspec": {
   "name": "python3",
   "display_name": "Python 3",
   "language": "python"
  }
 },
 "nbformat": 4,
 "nbformat_minor": 2,
 "cells": [
  {
   "source": [
    "## ans1"
   ],
   "cell_type": "markdown",
   "metadata": {}
  },
  {
   "cell_type": "code",
   "execution_count": 2,
   "metadata": {},
   "outputs": [
    {
     "output_type": "stream",
     "name": "stdout",
     "text": [
      "True\nFalse\n"
     ]
    }
   ],
   "source": [
    "##Boolean Datatype are the datatype which gives value of true or false.\n",
    "#Eg:\n",
    "a=True\n",
    "b=False\n",
    "print(a)\n",
    "print(b)"
   ]
  },
  {
   "source": [
    "## ans2"
   ],
   "cell_type": "markdown",
   "metadata": {}
  },
  {
   "source": [
    "Different type of boolean operators are and,or,not."
   ],
   "cell_type": "markdown",
   "metadata": {}
  },
  {
   "source": [
    "## ans3"
   ],
   "cell_type": "markdown",
   "metadata": {}
  },
  {
   "source": [
    "Truth Table(And) A B o/p 0 0 0 0 1 0 1 0 0 1 1 1 Truth Table(Or) A B o/p 0 0 0 0 1 1 1 0 1 1 1 1 Truth Table(Not) A o/p 0 1 0 1 1 0 1 0"
   ],
   "cell_type": "markdown",
   "metadata": {}
  },
  {
   "source": [
    "## ans4"
   ],
   "cell_type": "markdown",
   "metadata": {}
  },
  {
   "cell_type": "code",
   "execution_count": null,
   "metadata": {},
   "outputs": [],
   "source": [
    "print((5>4) and (3==5))\n",
    "print(not(5>4))\n",
    "print((5>4) or (3==5))\n",
    "print(not(5>4) or (3==5))\n",
    "print((True and True) and (True==False))\n",
    "print((not(False))or(not(True)))"
   ]
  },
  {
   "source": [
    "## ans5"
   ],
   "cell_type": "markdown",
   "metadata": {}
  },
  {
   "source": [
    "The six comparison operators are:\n",
    "1) ==\n",
    "2) !=\n",
    "3) <\n",
    "4) >\n",
    "5) <=\n",
    "6) >="
   ],
   "cell_type": "markdown",
   "metadata": {}
  },
  {
   "source": [
    "## ans6"
   ],
   "cell_type": "markdown",
   "metadata": {}
  },
  {
   "cell_type": "code",
   "execution_count": 10,
   "metadata": {},
   "outputs": [
    {
     "output_type": "stream",
     "name": "stdout",
     "text": [
      "False\na = 1\n"
     ]
    }
   ],
   "source": [
    "\n",
    "# Equal To Operator\n",
    "if(1==2):\n",
    "    print(\"True\")\n",
    "else:\n",
    "    print(\"False\")\n",
    "#Assignment operator\n",
    "a=1 #here we have used assignment operator(=) to assign value of a which is 1\n",
    "print(\"a =\",a)"
   ]
  },
  {
   "source": [
    "## ans7"
   ],
   "cell_type": "markdown",
   "metadata": {}
  },
  {
   "cell_type": "code",
   "execution_count": null,
   "metadata": {},
   "outputs": [],
   "source": [
    "spam = 0\n",
    "if spam == 10: # block 1\n",
    "    print(\"eggs\") \n",
    "    if spam > 5: # block 2\n",
    "        print(\"bacon\")\n",
    "    else: # block 3\n",
    "        print(\"ham\")\n",
    "        print(\"spam\")\n",
    "        print(\"spam\")"
   ]
  },
  {
   "source": [
    "## ans8"
   ],
   "cell_type": "markdown",
   "metadata": {}
  },
  {
   "cell_type": "code",
   "execution_count": 16,
   "metadata": {},
   "outputs": [
    {
     "output_type": "stream",
     "name": "stdout",
     "text": [
      "Howdy\n"
     ]
    }
   ],
   "source": [
    "spam=int(input())\n",
    "if(spam==1):\n",
    "    print(\"Hello\")\n",
    "elif(spam==2):\n",
    "    print(\"Howdy\")\n",
    "elif(spam==3):\n",
    "    print(\"Salutations\")\n",
    "else:\n",
    "    print(\"spam\")"
   ]
  },
  {
   "source": [
    "## ans9"
   ],
   "cell_type": "markdown",
   "metadata": {}
  },
  {
   "source": [
    "If program is stuck in endless loop, by using the ctrl+c can terminate it."
   ],
   "cell_type": "markdown",
   "metadata": {}
  },
  {
   "source": [
    "## ans10"
   ],
   "cell_type": "markdown",
   "metadata": {}
  },
  {
   "source": [
    "### `break`\n",
    "\n",
    "> The break statement has two forms: labeled and unlabeled. You saw the\n",
    "> unlabeled form in the previous discussion of the switch statement. You\n",
    "> can also use an unlabeled break to terminate a for, while, or do-while\n",
    "> \n",
    "> An unlabeled break statement terminates the innermost switch, for,\n",
    "> while, or do-while statement, but a labeled break terminates an outer\n",
    "> statement.\n",
    "\n",
    "\n",
    "### `continue`\n",
    "\n",
    "> The continue statement skips the current iteration of a for, while ,\n",
    "> or do-while loop. The unlabeled form skips to the end of the innermost\n",
    "> loop's body and evaluates the boolean expression that controls the\n",
    "> \n",
    "> A labeled continue statement skips the current iteration of an outer loop marked with the given label."
   ],
   "cell_type": "markdown",
   "metadata": {}
  },
  {
   "source": [
    "## ans11"
   ],
   "cell_type": "markdown",
   "metadata": {}
  },
  {
   "source": [
    "### `syntax of range`\n",
    "> range(start, stop, step)\n",
    "\n",
    "- eg1:- range(10)\n",
    "- eg2:- range(0, 10)\n",
    "- eg3:- range(0, 10, 1)\n",
    "#### all those 3 examples gives same op i.e 0,1,2,3,4,5,6,7,8,9"
   ],
   "cell_type": "markdown",
   "metadata": {}
  },
  {
   "source": [
    "## ans12"
   ],
   "cell_type": "markdown",
   "metadata": {}
  },
  {
   "cell_type": "code",
   "execution_count": 18,
   "metadata": {},
   "outputs": [
    {
     "output_type": "stream",
     "name": "stdout",
     "text": [
      "FOR LOOP\n1\n2\n3\n4\n5\n6\n7\n8\n9\n10\nWHILE LOOP\n1\n2\n3\n4\n5\n6\n7\n8\n9\n10\n"
     ]
    }
   ],
   "source": [
    "\n",
    "# using for loop\n",
    "print(\"FOR LOOP\")\n",
    "for i in range(1,11):\n",
    "    print(i)\n",
    "#using while loop\n",
    "print(\"WHILE LOOP\")\n",
    "x=1\n",
    "while(x<=10):\n",
    "    print(x)\n",
    "    x+=1"
   ]
  },
  {
   "source": [
    "## ans13"
   ],
   "cell_type": "markdown",
   "metadata": {}
  },
  {
   "source": [
    "import spam \n",
    "<br>\n",
    "spam.bacon()\n"
   ],
   "cell_type": "markdown",
   "metadata": {}
  }
 ]
}