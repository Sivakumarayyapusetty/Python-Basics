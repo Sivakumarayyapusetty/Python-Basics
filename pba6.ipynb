{
 "cells": [
  {
   "cell_type": "markdown",
   "metadata": {},
   "source": [
    "## ans1"
   ]
  },
  {
   "cell_type": "markdown",
   "metadata": {},
   "source": [
    "### Escape Characters\n",
    "__To insert characters that are illegal in a string, use an escape character.\n",
    "An escape character is a backslash \\ followed by the character you want to insert.__\n",
    "\n",
    " `An example of an illegal character is a double quote inside a string that is surrounded by double quotes:`\n",
    "> eg1:\n",
    "> ip : txt = \"We are the so-called \"Vikings\" from the north.\" \n",
    "> op : (gives error)\n",
    "<br>\n",
    "> eg2:\n",
    "> ip : txt = \"We are the so-called \\\"Vikings\\\" from the north.\"\n",
    "> op : \"We are the so-called \"Vikings\" from the north."
   ]
  },
  {
   "cell_type": "markdown",
   "metadata": {},
   "source": [
    "## ans2"
   ]
  },
  {
   "cell_type": "markdown",
   "metadata": {},
   "source": [
    "* escape n : newline\n",
    "* escape t : tab"
   ]
  },
  {
   "cell_type": "markdown",
   "metadata": {},
   "source": [
    "## ans3"
   ]
  },
  {
   "cell_type": "code",
   "execution_count": 38,
   "metadata": {},
   "outputs": [
    {
     "name": "stdout",
     "output_type": "stream",
     "text": [
      "apple\\orange\n"
     ]
    }
   ],
   "source": [
    "# In Python strings, the backslash \"\\\" is a special character, also called the \"escape\" character. It is used in representing certain whitespace characters: \"\\t\" is a tab, \"\\n\" is a newline, and \"\\r\" is a carriage return.\n",
    "# by using // (double slash) we can include the \"\\\" in string. \n",
    "print('apple\\\\orange')"
   ]
  },
  {
   "cell_type": "markdown",
   "metadata": {},
   "source": [
    "## ans4"
   ]
  },
  {
   "cell_type": "code",
   "execution_count": 39,
   "metadata": {},
   "outputs": [
    {
     "name": "stdout",
     "output_type": "stream",
     "text": [
      "How's the movie?\n"
     ]
    }
   ],
   "source": [
    "# in order to escape single quote inside single quoted string value we need to use esc character i.e \\ \n",
    "print('How\\'s the movie?')"
   ]
  },
  {
   "cell_type": "markdown",
   "metadata": {},
   "source": [
    "## ans5"
   ]
  },
  {
   "cell_type": "code",
   "execution_count": 41,
   "metadata": {},
   "outputs": [
    {
     "name": "stdout",
     "output_type": "stream",
     "text": [
      "heading:\n",
      "    some text some text some text\n"
     ]
    }
   ],
   "source": [
    "#  in order to make a string multi line without using the escape character, we need to use triple quote i.e \"\"\" around text\n",
    "\n",
    "print(\"\"\"heading:\n",
    "    some text some text some text\"\"\")\n"
   ]
  },
  {
   "cell_type": "markdown",
   "metadata": {},
   "source": [
    "## ans6"
   ]
  },
  {
   "cell_type": "code",
   "execution_count": 55,
   "metadata": {},
   "outputs": [
    {
     "name": "stdout",
     "output_type": "stream",
     "text": [
      "e\n",
      "hello\n",
      "hello\n",
      "lo, world\n"
     ]
    }
   ],
   "source": [
    "a = \"hello, world\"[1]\n",
    "b = \"hello, world\"[0:5]\n",
    "c = \"hello, world\"[:5]\n",
    "d = \"hello, world\"[3:]\n",
    "print(a)\n",
    "print(b)\n",
    "print(c)\n",
    "print(d)"
   ]
  },
  {
   "cell_type": "markdown",
   "metadata": {},
   "source": [
    "## ans7"
   ]
  },
  {
   "cell_type": "code",
   "execution_count": 59,
   "metadata": {},
   "outputs": [
    {
     "name": "stdout",
     "output_type": "stream",
     "text": [
      "HELLO\n",
      "True\n",
      "hello\n"
     ]
    }
   ],
   "source": [
    "a = 'Hello'.upper()\n",
    "b = 'Hello'.upper().isupper()\n",
    "c = 'Hello'.upper().lower()\n",
    "print(a)\n",
    "print(b)\n",
    "print(c)"
   ]
  },
  {
   "cell_type": "markdown",
   "metadata": {},
   "source": [
    "## ans8"
   ]
  },
  {
   "cell_type": "code",
   "execution_count": 63,
   "metadata": {},
   "outputs": [
    {
     "name": "stdout",
     "output_type": "stream",
     "text": [
      "['Remember,', 'remember,', 'the', 'fifth', 'of', 'July.']\n",
      "There-can-only-one.\n"
     ]
    }
   ],
   "source": [
    "a = 'Remember, remember, the fifth of July.'.split()\n",
    "b = \"-\".join('There can only one.'.split())\n",
    "print(a)\n",
    "print(b)"
   ]
  },
  {
   "cell_type": "markdown",
   "metadata": {},
   "source": [
    "## ans9"
   ]
  },
  {
   "cell_type": "markdown",
   "metadata": {},
   "source": [
    "String alignment is frequently used in many day-day applications. Python in its language offers several functions that helps to align string. Also, offers a way to add user specified padding instead of blank space.\n",
    "\n",
    "These functions are :\n",
    "\n",
    "* str.ljust(s, width\\[, fillchar\\])\n",
    "* str.rjust(s, width\\[, fillchar\\])\n",
    "* str.center(s, width\\[, fillchar\\])\n",
    "\n",
    "> Syntax :\n",
    "center( len, fillchr )\n",
    "\n",
    "> Parameters :\n",
    "> * len : The width of string to expand it.\n",
    "> * fillchr (optional): The character to fill in remaining space.\n",
    "\n",
    "> Return Value :\n",
    "The resultant center aligned string expanding the given width."
   ]
  },
  {
   "cell_type": "markdown",
   "metadata": {},
   "source": [
    "## ans10"
   ]
  },
  {
   "cell_type": "code",
   "execution_count": 67,
   "metadata": {},
   "outputs": [
    {
     "data": {
      "text/plain": [
       "'adf af df sdf'"
      ]
     },
     "execution_count": 67,
     "metadata": {},
     "output_type": "execute_result"
    }
   ],
   "source": [
    "# by using stip() method we can terminate the either sides of the string\n",
    "\n",
    "s = \" adf af df sdf \"\n",
    "s.strip()"
   ]
  }
 ],
 "metadata": {
  "kernelspec": {
   "display_name": "Python 3",
   "language": "python",
   "name": "python3"
  },
  "language_info": {
   "codemirror_mode": {
    "name": "ipython",
    "version": 3
   },
   "file_extension": ".py",
   "mimetype": "text/x-python",
   "name": "python",
   "nbconvert_exporter": "python",
   "pygments_lexer": "ipython3",
   "version": "3.8.6"
  }
 },
 "nbformat": 4,
 "nbformat_minor": 2
}
