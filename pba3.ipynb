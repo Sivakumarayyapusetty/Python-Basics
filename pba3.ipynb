{
 "metadata": {
  "language_info": {
   "codemirror_mode": {
    "name": "ipython",
    "version": 3
   },
   "file_extension": ".py",
   "mimetype": "text/x-python",
   "name": "python",
   "nbconvert_exporter": "python",
   "pygments_lexer": "ipython3",
   "version": "3.8.6"
  },
  "orig_nbformat": 2,
  "kernelspec": {
   "name": "python3",
   "display_name": "Python 3",
   "language": "python"
  }
 },
 "nbformat": 4,
 "nbformat_minor": 2,
 "cells": [
  {
   "source": [
    "## ans1"
   ],
   "cell_type": "markdown",
   "metadata": {}
  },
  {
   "source": [
    "Advantages of having functions: 1) Reduce the reusability of code 2) Modular programming 3) Increases redability of the program 4) Tracking of code become easier"
   ],
   "cell_type": "markdown",
   "metadata": {}
  },
  {
   "source": [
    "## ans2"
   ],
   "cell_type": "markdown",
   "metadata": {}
  },
  {
   "source": [
    "Code in the function runs when it is called"
   ],
   "cell_type": "markdown",
   "metadata": {}
  },
  {
   "source": [
    "## ans3"
   ],
   "cell_type": "markdown",
   "metadata": {}
  },
  {
   "source": [
    "When we have to create the function we have to write def before the function name. Eg: def function_name(): pass"
   ],
   "cell_type": "markdown",
   "metadata": {}
  },
  {
   "source": [
    "## ans4"
   ],
   "cell_type": "markdown",
   "metadata": {}
  },
  {
   "cell_type": "code",
   "execution_count": 10,
   "metadata": {},
   "outputs": [],
   "source": [
    "#FUNCTION \n",
    "def function_name(): \n",
    "    pass \n",
    "function_name() #function call"
   ]
  },
  {
   "source": [
    "## ans5"
   ],
   "cell_type": "markdown",
   "metadata": {}
  },
  {
   "source": [
    "There is only 1 GLOBAL scope in the python program and it remains till the program is not terminated, on the other hand there are 3 local scope inside the function local,global,built_in."
   ],
   "cell_type": "markdown",
   "metadata": {}
  },
  {
   "source": [
    "## ans6"
   ],
   "cell_type": "markdown",
   "metadata": {}
  },
  {
   "source": [
    "Variable in the local scope are destroyed as soon as work of funtion is completed."
   ],
   "cell_type": "markdown",
   "metadata": {}
  },
  {
   "source": [
    "## ans7"
   ],
   "cell_type": "markdown",
   "metadata": {}
  },
  {
   "source": [
    " function we can return value as per the need of the program, Yes its possible to hav ereturn value in an expression."
   ],
   "cell_type": "markdown",
   "metadata": {}
  },
  {
   "source": [
    "## ans8"
   ],
   "cell_type": "markdown",
   "metadata": {}
  },
  {
   "source": [
    "If the funtion does not have a return statement it will not return anything"
   ],
   "cell_type": "markdown",
   "metadata": {}
  },
  {
   "source": [
    "## ans9"
   ],
   "cell_type": "markdown",
   "metadata": {}
  },
  {
   "source": [
    "To make function variable as a global variable use GLOBAL keyword before the variable name. Eg: a = 15 def fun(): global a a+=5 print(\"Value of x inside a function :\", x) fun() print(\"Value of x outside a function :\", x)"
   ],
   "cell_type": "markdown",
   "metadata": {}
  },
  {
   "source": [
    "## ans10"
   ],
   "cell_type": "markdown",
   "metadata": {}
  },
  {
   "source": [
    "Datatype of None is NONETYPE"
   ],
   "cell_type": "markdown",
   "metadata": {}
  },
  {
   "source": [
    "## ans11"
   ],
   "cell_type": "markdown",
   "metadata": {}
  },
  {
   "source": [
    "import areallyourpetsnamederic will import the areallyourpetsnamederic in thar particular program and we can us the functions defined inside areallyourpetsnamederic module"
   ],
   "cell_type": "markdown",
   "metadata": {}
  },
  {
   "source": [
    "## ans12"
   ],
   "cell_type": "markdown",
   "metadata": {}
  },
  {
   "source": [
    "import spam \n",
    "<br>\n",
    "spam.bacon()\n"
   ],
   "cell_type": "markdown",
   "metadata": {}
  },
  {
   "source": [
    "## ans13"
   ],
   "cell_type": "markdown",
   "metadata": {}
  },
  {
   "source": [
    "We can use try except to save a program from crashing."
   ],
   "cell_type": "markdown",
   "metadata": {}
  },
  {
   "source": [
    "## ans14"
   ],
   "cell_type": "markdown",
   "metadata": {}
  },
  {
   "source": [
    "if  there is any error in the code and if the code is inside the try block it will automatically come ouside the try block as soon as it find the error in the particular line and will not execute after that line and will fall inside the except block and do the further processing."
   ],
   "cell_type": "markdown",
   "metadata": {}
  }
 ]
}