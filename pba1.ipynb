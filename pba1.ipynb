{
 "cells": [
  {
   "cell_type": "markdown",
   "metadata": {},
   "source": [
    "## ans1\n",
    "1) * = operator\n",
    "2) 'hello'= value\n",
    "3) -87.8 = value\n",
    "4) - = operator\n",
    "5) / = operator\n",
    "6) + = operator\n",
    "7) 6 = value"
   ]
  },
  {
   "cell_type": "markdown",
   "metadata": {},
   "source": [
    "## ans2\n",
    "\n",
    "A Variable is a store of information, and a String is a type of information you would store in a Variable. A String is usually words, enclosed with \"\" \n",
    "Eg:- String x =\"Welcome\" X is the Variable, and we declared it as a String, use the single = to assign the text to it."
   ]
  },
  {
   "cell_type": "markdown",
   "metadata": {},
   "source": [
    "## ans3\n",
    "\n",
    "Data forms can be Integer , Float , String , Complex Numbers, boolean...."
   ]
  },
  {
   "cell_type": "markdown",
   "metadata": {},
   "source": [
    "## ans4\n",
    "\n",
    "Expression just represents something like numbers , strings , instance, any value can be the expression Eg: var=\"Umang\" ----> var is a variable which stores string \"Umang\" \"Umang\"-----> It is an expression,as nothing is evaluated here"
   ]
  },
  {
   "cell_type": "markdown",
   "metadata": {},
   "source": [
    "## ans5\n",
    "spam = 10, here 10 is an expression. spam is a variable which stores integer value 10, so assigning the value 10 to a variable spam is known as declaration of a variable"
   ]
  },
  {
   "cell_type": "code",
   "execution_count": null,
   "metadata": {},
   "outputs": [],
   "source": [
    "## ans6\n",
    "bacon = 22\n",
    "bacon+1\n",
    "print(bacon) # bacon will contain 22"
   ]
  },
  {
   "cell_type": "code",
   "execution_count": 16,
   "metadata": {},
   "outputs": [
    {
     "name": "stdout",
     "output_type": "stream",
     "text": [
      "spamspamspam\n",
      "spamspamspam\n"
     ]
    }
   ],
   "source": [
    "## ans7\n",
    "print('spam'+'spamspam')\n",
    "print('spam'*3)"
   ]
  },
  {
   "cell_type": "markdown",
   "metadata": {},
   "source": [
    "## ans8\n",
    "According to rules in python:\n",
    "A variable name cannot start with a number, tehrefore 100 cannot be the variable name"
   ]
  },
  {
   "cell_type": "code",
   "execution_count": null,
   "metadata": {},
   "outputs": [],
   "source": [
    "## ans9\n",
    "\n",
    "value_int = int(\"10\")\n",
    "print(type(value_int))\n",
    "value_float = float(\"10\")\n",
    "print(type(value))\n",
    "value_string = str(10)\n",
    "print(type(value_string))"
   ]
  },
  {
   "cell_type": "markdown",
   "metadata": {},
   "source": [
    "## ans10\n",
    "\n",
    "\"I have eaten\" + 99 + \"burritos.\"\n",
    "In the above expression we cannot concatenate string with integer value , string can only be concatinated with string."
   ]
  }
 ],
 "metadata": {
  "kernelspec": {
   "display_name": "Python 3",
   "language": "python",
   "name": "python3"
  },
  "language_info": {
   "codemirror_mode": {
    "name": "ipython",
    "version": 3
   },
   "file_extension": ".py",
   "mimetype": "text/x-python",
   "name": "python",
   "nbconvert_exporter": "python",
   "pygments_lexer": "ipython3",
   "version": "3.8.5"
  }
 },
 "nbformat": 4,
 "nbformat_minor": 2
}
